{
 "cells": [
  {
   "cell_type": "code",
   "execution_count": 6,
   "metadata": {
    "collapsed": false
   },
   "outputs": [
    {
     "name": "stdout",
     "output_type": "stream",
     "text": [
      "['', 'year', 'month', 'intent', 'police', 'sex', 'age', 'race', 'hispanic', 'place', 'education']\n",
      "['1', '2012', '01', 'Suicide', '0', 'M', '34', 'Asian/Pacific Islander', '100', 'Home', '4']\n",
      "['2', '2012', '01', 'Suicide', '0', 'F', '21', 'White', '100', 'Street', '3']\n",
      "['3', '2012', '01', 'Suicide', '0', 'M', '60', 'White', '100', 'Other specified', '4']\n",
      "['4', '2012', '02', 'Suicide', '0', 'M', '64', 'White', '100', 'Home', '4']\n",
      "['5', '2012', '02', 'Suicide', '0', 'M', '31', 'White', '100', 'Other specified', '2']\n"
     ]
    }
   ],
   "source": [
    "import csv\n",
    "f = open(\"guns.csv\")\n",
    "data = list(csv.reader(f))\n",
    "headers = data[0]\n",
    "print(headers)\n",
    "data = data[1:]\n",
    "for i in range(5):\n",
    "    print(data[i])"
   ]
  },
  {
   "cell_type": "code",
   "execution_count": 14,
   "metadata": {
    "collapsed": false
   },
   "outputs": [
    {
     "name": "stdout",
     "output_type": "stream",
     "text": [
      "{'2012': 33563, '2013': 33636, '2014': 33599}\n"
     ]
    }
   ],
   "source": [
    "years = [x[1] for x in data]\n",
    "years_count = {}\n",
    "for i in years:\n",
    "    if i in years_count:\n",
    "        years_count[i] += 1\n",
    "    else:\n",
    "        years_count[i] = 1\n",
    "print(years_count)"
   ]
  },
  {
   "cell_type": "code",
   "execution_count": 21,
   "metadata": {
    "collapsed": false
   },
   "outputs": [
    {
     "name": "stdout",
     "output_type": "stream",
     "text": [
      "2012-01-10 00:00:00\n",
      "2012-01-10 00:00:00\n",
      "2012-01-10 00:00:00\n",
      "2012-02-10 00:00:00\n",
      "2012-02-10 00:00:00\n",
      "{'10-07-2012': 3026, '10-03-2013': 2862, '10-03-2012': 2743, '10-07-2014': 2884, '10-10-2012': 2733, '10-02-2012': 2357, '10-08-2012': 2954, '10-04-2014': 2862, '10-09-2012': 2852, '10-07-2013': 3079, '10-10-2013': 2808, '10-10-2014': 2865, '10-04-2012': 2795, '10-05-2014': 2864, '10-12-2012': 2791, '10-02-2014': 2361, '10-01-2013': 2864, '10-04-2013': 2798, '10-09-2013': 2742, '10-01-2014': 2651, '10-06-2012': 2826, '10-06-2013': 2920, '10-01-2012': 2758, '10-11-2012': 2729, '10-11-2014': 2756, '10-11-2013': 2758, '10-08-2014': 2970, '10-12-2013': 2765, '10-05-2012': 2999, '10-03-2014': 2684, '10-05-2013': 2806, '10-08-2013': 2859, '10-06-2014': 2931, '10-12-2014': 2857, '10-02-2013': 2375, '10-09-2014': 2914}\n"
     ]
    }
   ],
   "source": [
    "import datetime\n",
    "years = [int(x[1]) for x in data]\n",
    "months = [int(x[2]) for x in data]\n",
    "dates = []\n",
    "for i in range(len(years)):\n",
    "    dates.append(datetime.datetime(year=years[i], month = months[i], day=10))\n",
    "for i in range(5):\n",
    "    print(dates[i])\n",
    "dates_counts = {}\n",
    "data_str = []\n",
    "for i in range(len(dates)):\n",
    "    data_str.append(dates[i].strftime('%d-%m-%Y'))\n",
    "for i in data_str:\n",
    "    if i in dates_counts:\n",
    "        dates_counts[i] += 1\n",
    "    else:\n",
    "        dates_counts[i] = 1\n",
    "print(dates_counts)"
   ]
  },
  {
   "cell_type": "code",
   "execution_count": 29,
   "metadata": {
    "collapsed": false
   },
   "outputs": [
    {
     "name": "stdout",
     "output_type": "stream",
     "text": [
      "{'F': 14449, 'M': 86349}\n",
      "{'Black': 23296, 'White': 66237, 'Native American/Native Alaskan': 917, 'Hispanic': 9022, 'Asian/Pacific Islander': 1326}\n"
     ]
    }
   ],
   "source": [
    "sex_counts = {}\n",
    "race_counts = {}\n",
    "for i in data:\n",
    "    if i[5] in sex_counts:\n",
    "        sex_counts[i[5]] += 1\n",
    "    else:\n",
    "        sex_counts[i[5]] = 1\n",
    "    if i[7] in race_counts:\n",
    "        race_counts[i[7]] += 1\n",
    "    else:\n",
    "        race_counts[i[7]] = 1\n",
    "print(sex_counts)\n",
    "print(race_counts)\n",
    "    "
   ]
  },
  {
   "cell_type": "code",
   "execution_count": 31,
   "metadata": {
    "collapsed": false
   },
   "outputs": [
    {
     "name": "stdout",
     "output_type": "stream",
     "text": [
      "[['cen42010', 'April 1, 2010 Census', 'totsex', 'Both Sexes', 'tothisp', 'Total', '0100000US', '', 'United States', '308745538', '197318956', '44618105', '40250635', '3739506', '15159516', '674625', '6984195']]\n"
     ]
    }
   ],
   "source": [
    "import csv\n",
    "f = open(\"census.csv\")\n",
    "census = list(csv.reader(f))\n",
    "census = census[1:]\n",
    "print(census)"
   ]
  },
  {
   "cell_type": "code",
   "execution_count": 40,
   "metadata": {
    "collapsed": false
   },
   "outputs": [
    {
     "name": "stdout",
     "output_type": "stream",
     "text": [
      "{'Asian/Pacific Islander': 8.374309664161762, 'Black': 57.8773477735196, 'Native American/Native Alaskan': 24.521955573811088, 'Hispanic': 20.220491210910907, 'White': 33.56849303419181}\n"
     ]
    }
   ],
   "source": [
    "import csv\n",
    "f = open(\"census.csv\")\n",
    "census = list(csv.reader(f))\n",
    "census = census[1:]\n",
    "mapping = {'Asian/Pacific Islander':0, 'Black':0, 'Native American/Native Alaskan':0, 'Hispanic':0, 'White':0}\n",
    "mapping['White'] += int(census[0][10])\n",
    "mapping['Hispanic'] += int(census[0][11])\n",
    "mapping['Black'] += int(census[0][12])\n",
    "mapping['Native American/Native Alaskan'] += int(census[0][13])\n",
    "mapping['Asian/Pacific Islander'] += (int(census[0][14]) + int(census[0][15]))\n",
    "race_per_hundredk = {}\n",
    "for i in race_counts:\n",
    "    tmp = race_counts[i]/mapping[i]\n",
    "    tmp = tmp*100000\n",
    "    race_per_hundredk[i] = tmp\n",
    "print(race_per_hundredk)"
   ]
  },
  {
   "cell_type": "code",
   "execution_count": 5,
   "metadata": {
    "collapsed": false
   },
   "outputs": [
    {
     "name": "stdout",
     "output_type": "stream",
     "text": [
      "{'Black': 48.471284987180944, 'Native American/Native Alaskan': 8.717729026240365, 'Hispanic': 12.627161104219914, 'White': 4.6356417981453335, 'Asian/Pacific Islander': 3.530346230970155}\n"
     ]
    }
   ],
   "source": [
    "import csv\n",
    "f = open(\"guns.csv\")\n",
    "data = list(csv.reader(f))\n",
    "headers = data[0]\n",
    "data = data[1:]\n",
    "\n",
    "import csv\n",
    "f = open(\"census.csv\")\n",
    "census = list(csv.reader(f))\n",
    "census = census[1:]\n",
    "mapping = {'Asian/Pacific Islander':0, 'Black':0, 'Native American/Native Alaskan':0, 'Hispanic':0, 'White':0}\n",
    "mapping['White'] += int(census[0][10])\n",
    "mapping['Hispanic'] += int(census[0][11])\n",
    "mapping['Black'] += int(census[0][12])\n",
    "mapping['Native American/Native Alaskan'] += int(census[0][13])\n",
    "mapping['Asian/Pacific Islander'] += (int(census[0][14]) + int(census[0][15]))\n",
    "\n",
    "intents = [x[3] for x in data]\n",
    "races = [x[7] for x in data]\n",
    "homicide_race_counts = {}\n",
    "for i, race in enumerate(races):\n",
    "    if intents[i] == 'Homicide':\n",
    "        if race in homicide_race_counts:\n",
    "            homicide_race_counts[race] += 1\n",
    "        else:\n",
    "            homicide_race_counts[race] = 1\n",
    "for i in homicide_race_counts:\n",
    "    tmp = homicide_race_counts[i]/mapping[i]\n",
    "    tmp = tmp*100000\n",
    "    homicide_race_counts[i] = tmp       \n",
    "print(homicide_race_counts)"
   ]
  },
  {
   "cell_type": "code",
   "execution_count": 6,
   "metadata": {
    "collapsed": false
   },
   "outputs": [
    {
     "name": "stdout",
     "output_type": "stream",
     "text": [
      "{}\n"
     ]
    }
   ],
   "source": [
    "import csv\n",
    "f = open(\"guns.csv\")\n",
    "data = list(csv.reader(f))\n",
    "headers = data[0]\n",
    "data = data[1:]\n",
    "\n",
    "import csv\n",
    "f = open(\"census.csv\")\n",
    "census = list(csv.reader(f))\n",
    "census = census[1:]\n",
    "mapping = {'Asian/Pacific Islander':0, 'Black':0, 'Native American/Native Alaskan':0, 'Hispanic':0, 'White':0}\n",
    "mapping['White'] += int(census[0][10])\n",
    "mapping['Hispanic'] += int(census[0][11])\n",
    "mapping['Black'] += int(census[0][12])\n",
    "mapping['Native American/Native Alaskan'] += int(census[0][13])\n",
    "mapping['Asian/Pacific Islander'] += (int(census[0][14]) + int(census[0][15]))\n",
    "\n",
    "intents = [x[3] for x in data]\n",
    "sexes = [x[5] for x in data]\n",
    "homicide_sex_counts = {}\n",
    "for i, sex in enumerate(sexes):\n",
    "    if intents[i] == 'Homicide':\n",
    "        if sex in homicide_sex_counts:\n",
    "            homicide_sex_counts[sex] += 1\n",
    "        else:\n",
    "            homicide_race_counts[sex] = 1\n",
    "print(homicide_sex_counts)"
   ]
  },
  {
   "cell_type": "code",
   "execution_count": null,
   "metadata": {
    "collapsed": true
   },
   "outputs": [],
   "source": []
  }
 ],
 "metadata": {
  "kernelspec": {
   "display_name": "Python 3",
   "language": "python",
   "name": "python3"
  },
  "language_info": {
   "codemirror_mode": {
    "name": "ipython",
    "version": 3
   },
   "file_extension": ".py",
   "mimetype": "text/x-python",
   "name": "python",
   "nbconvert_exporter": "python",
   "pygments_lexer": "ipython3",
   "version": "3.4.3"
  }
 },
 "nbformat": 4,
 "nbformat_minor": 0
}
